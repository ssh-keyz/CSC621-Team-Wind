{
 "cells": [
  {
   "cell_type": "code",
   "execution_count": 1,
   "id": "4ecb2020",
   "metadata": {},
   "outputs": [],
   "source": [
    "import SimpleITK as sitk\n",
    "import os\n",
    "\n",
    "OUTPUT_DIR = \"./\""
   ]
  },
  {
   "cell_type": "code",
   "execution_count": 2,
   "id": "c3fbdf5d",
   "metadata": {},
   "outputs": [],
   "source": [
    "%matplotlib inline\n",
    "import matplotlib.pyplot as plt\n",
    "\n",
    "from ipywidgets import interact, fixed\n",
    "from IPython.display import clear_output\n",
    "\n",
    "# Callback invoked by the interact IPython method for scrolling through the image stacks of\n",
    "# the two images (moving and fixed).\n",
    "def display_images(fixed_image_z, moving_image_z, fixed_npa, moving_npa):\n",
    "    # Create a figure with two subplots and the specified size.\n",
    "    plt.subplots(1, 2, figsize=(10, 8))\n",
    "\n",
    "    # Draw the fixed image in the first subplot.\n",
    "    plt.subplot(1, 2, 1)\n",
    "    plt.imshow(fixed_npa[fixed_image_z, :, :], cmap=plt.cm.Greys_r)\n",
    "    plt.title(\"fixed image\")\n",
    "    plt.axis(\"off\")\n",
    "\n",
    "    # Draw the moving image in the second subplot.\n",
    "    plt.subplot(1, 2, 2)\n",
    "    plt.imshow(moving_npa[moving_image_z, :, :], cmap=plt.cm.Greys_r)\n",
    "    plt.title(\"moving image\")\n",
    "    plt.axis(\"off\")\n",
    "\n",
    "    plt.show()\n",
    "\n",
    "\n",
    "# Callback invoked by the IPython interact method for scrolling and modifying the alpha blending\n",
    "# of an image stack of two images that occupy the same physical space.\n",
    "def display_images_with_alpha(image_z, alpha, fixed, moving):\n",
    "    img = (1.0 - alpha) * fixed[:, :, image_z] + alpha * moving[:, :, image_z]\n",
    "    plt.imshow(sitk.GetArrayViewFromImage(img), cmap=plt.cm.Greys_r)\n",
    "    plt.axis(\"off\")\n",
    "    plt.show()\n",
    "\n",
    "\n",
    "# Callback invoked when the StartEvent happens, sets up our new data.\n",
    "def start_plot():\n",
    "    global metric_values, multires_iterations\n",
    "\n",
    "    metric_values = []\n",
    "    multires_iterations = []\n",
    "\n",
    "\n",
    "# Callback invoked when the EndEvent happens, do cleanup of data and figure.\n",
    "def end_plot():\n",
    "    global metric_values, multires_iterations\n",
    "\n",
    "    del metric_values\n",
    "    del multires_iterations\n",
    "    # Close figure, we don't want to get a duplicate of the plot latter on.\n",
    "    plt.close()\n",
    "\n",
    "\n",
    "# Callback invoked when the IterationEvent happens, update our data and display new figure.\n",
    "def plot_values(registration_method):\n",
    "    global metric_values, multires_iterations\n",
    "\n",
    "    metric_values.append(registration_method.GetMetricValue())\n",
    "    # Clear the output area (wait=True, to reduce flickering), and plot current data\n",
    "    clear_output(wait=True)\n",
    "    # Plot the similarity metric values\n",
    "    plt.plot(metric_values, \"r\")\n",
    "    plt.plot(\n",
    "        multires_iterations,\n",
    "        [metric_values[index] for index in multires_iterations],\n",
    "        \"b*\",\n",
    "    )\n",
    "    plt.xlabel(\"Iteration Number\", fontsize=12)\n",
    "    plt.ylabel(\"Metric Value\", fontsize=12)\n",
    "    plt.show()\n",
    "\n",
    "\n",
    "# Callback invoked when the sitkMultiResolutionIterationEvent happens, update the index into the\n",
    "# metric_values list.\n",
    "def update_multires_iterations():\n",
    "    global metric_values, multires_iterations\n",
    "    multires_iterations.append(len(metric_values))"
   ]
  },
  {
   "cell_type": "code",
   "execution_count": 3,
   "id": "e2b1de91",
   "metadata": {},
   "outputs": [
    {
     "data": {
      "application/vnd.jupyter.widget-view+json": {
       "model_id": "ee350a230ae14e49bf1ed0c8bd851943",
       "version_major": 2,
       "version_minor": 0
      },
      "text/plain": [
       "interactive(children=(IntSlider(value=52, description='fixed_image_z', max=105), IntSlider(value=50, descripti…"
      ]
     },
     "metadata": {},
     "output_type": "display_data"
    }
   ],
   "source": [
    "# nii.gz format\n",
    "#fixed_image = sitk.ReadImage(\"../volume-covid19-A-0700_day000.nii.gz\", sitk.sitkFloat32)\n",
    "#moving_image = sitk.ReadImage(\"../volume-covid19-A-0700_day007.nii.gz\", sitk.sitkFloat32)\n",
    "\n",
    "# Dicom format\n",
    "# fixed_reader = sitk.ImageSeriesReader()\n",
    "# fixed_dicom_names = fixed_reader.GetGDCMSeriesFileNames(\"./601.000000-COR 3X3-86740\")\n",
    "# fixed_reader.SetFileNames(fixed_dicom_names)\n",
    "# fixed_image = fixed_reader.Execute()\n",
    "\n",
    "# moving_reader = sitk.ImageSeriesReader()\n",
    "# moving_dicom_names = moving_reader.GetGDCMSeriesFileNames(\"./604.000000-COR 3X3-11320\")\n",
    "# moving_reader.SetFileNames(moving_dicom_names)\n",
    "# moving_image = moving_reader.Execute()\n",
    "\n",
    "# Read mha images\n",
    "fixed_image = sitk.ReadImage(\"./../601.000000-COR 3X3-86740.mha\", sitk.sitkFloat32)\n",
    "moving_image = sitk.ReadImage(\"./../601.000000-COR 3X3-19359.mha\", sitk.sitkFloat32)\n",
    "\n",
    "\n",
    "interact(\n",
    "    display_images,\n",
    "    fixed_image_z=(0, fixed_image.GetSize()[2] - 1),\n",
    "    moving_image_z=(0, moving_image.GetSize()[2] - 1),\n",
    "    fixed_npa=fixed(sitk.GetArrayViewFromImage(fixed_image)),\n",
    "    moving_npa=fixed(sitk.GetArrayViewFromImage(moving_image)),\n",
    ");"
   ]
  },
  {
   "cell_type": "code",
   "execution_count": 4,
   "id": "034d9e6a",
   "metadata": {},
   "outputs": [
    {
     "data": {
      "application/vnd.jupyter.widget-view+json": {
       "model_id": "08a624877d1e40559abeb336869a1ea2",
       "version_major": 2,
       "version_minor": 0
      },
      "text/plain": [
       "interactive(children=(IntSlider(value=52, description='image_z', max=105), FloatSlider(value=0.5, description=…"
      ]
     },
     "metadata": {},
     "output_type": "display_data"
    }
   ],
   "source": [
    "initial_transform = sitk.CenteredTransformInitializer(\n",
    "    fixed_image,\n",
    "    moving_image,\n",
    "#    sitk.Euler3DTransform(),\n",
    "    sitk.AffineTransform(3),\n",
    "    sitk.CenteredTransformInitializerFilter.GEOMETRY,\n",
    ")\n",
    "\n",
    "moving_resampled = sitk.Resample(\n",
    "    moving_image,\n",
    "    fixed_image,\n",
    "    initial_transform,\n",
    "    sitk.sitkLinear,\n",
    "    0.0,\n",
    "    moving_image.GetPixelID(),\n",
    ")\n",
    "\n",
    "interact(\n",
    "    display_images_with_alpha,\n",
    "    image_z=(0, fixed_image.GetSize()[2] - 1),\n",
    "    alpha=(0.0, 1.0, 0.05),\n",
    "    fixed=fixed(fixed_image),\n",
    "    moving=fixed(moving_resampled),\n",
    ");"
   ]
  },
  {
   "cell_type": "code",
   "execution_count": 5,
   "id": "9fc98f9e",
   "metadata": {},
   "outputs": [],
   "source": [
    "def demons_registration(\n",
    "    fixed_image, moving_image, fixed_points=None, moving_points=None\n",
    "):\n",
    "\n",
    "    registration_method = sitk.ImageRegistrationMethod()\n",
    "\n",
    "    # Create initial identity transformation.\n",
    "    transform_to_displacment_field_filter = sitk.TransformToDisplacementFieldFilter()\n",
    "    transform_to_displacment_field_filter.SetReferenceImage(fixed_image)\n",
    "    # The image returned from the initial_transform_filter is transferred to the transform and cleared out.\n",
    "    initial_transform = sitk.DisplacementFieldTransform(\n",
    "        transform_to_displacment_field_filter.Execute(sitk.Transform())\n",
    "    )\n",
    "\n",
    "    # Regularization (update field - viscous, total field - elastic).\n",
    "    initial_transform.SetSmoothingGaussianOnUpdate(\n",
    "        varianceForUpdateField=0.0, varianceForTotalField=2.0\n",
    "    )\n",
    "\n",
    "    registration_method.SetInitialTransform(initial_transform)\n",
    "\n",
    "    registration_method.SetMetricAsDemons(\n",
    "        10\n",
    "    )  # intensities are equal if the difference is less than 10HU\n",
    "\n",
    "    # Multi-resolution framework.\n",
    "    registration_method.SetShrinkFactorsPerLevel(shrinkFactors=[4, 2, 1])\n",
    "    registration_method.SetSmoothingSigmasPerLevel(smoothingSigmas=[8, 4, 0])\n",
    "\n",
    "    registration_method.SetInterpolator(sitk.sitkLinear)\n",
    "    # If you have time, run this code as is, otherwise switch to the gradient descent optimizer\n",
    "    # registration_method.SetOptimizerAsConjugateGradientLineSearch(learningRate=1.0, numberOfIterations=20, convergenceMinimumValue=1e-6, convergenceWindowSize=10)\n",
    "    registration_method.SetOptimizerAsGradientDescent(\n",
    "        learningRate=1.0,\n",
    "        numberOfIterations=50,\n",
    "        convergenceMinimumValue=1e-6,\n",
    "        convergenceWindowSize=10,\n",
    "    )\n",
    "    registration_method.SetOptimizerScalesFromPhysicalShift()\n",
    "\n",
    "    # If corresponding points in the fixed and moving image are given then we display the similarity metric\n",
    "    # and the TRE during the registration.\n",
    "#     if fixed_points and moving_points:\n",
    "#         registration_method.AddCommand(\n",
    "#             sitk.sitkStartEvent, rc.metric_and_reference_start_plot\n",
    "#         )\n",
    "#         registration_method.AddCommand(\n",
    "#             sitk.sitkEndEvent, rc.metric_and_reference_end_plot\n",
    "#         )\n",
    "#         registration_method.AddCommand(\n",
    "#             sitk.sitkIterationEvent,\n",
    "#             lambda: rc.metric_and_reference_plot_values(\n",
    "#                 registration_method, fixed_points, moving_points\n",
    "#             ),\n",
    "#         )\n",
    "\n",
    "    registration_method.AddCommand(sitk.sitkStartEvent, start_plot)\n",
    "    registration_method.AddCommand(sitk.sitkEndEvent, end_plot)\n",
    "    registration_method.AddCommand(\n",
    "        sitk.sitkMultiResolutionIterationEvent, update_multires_iterations\n",
    "    )\n",
    "    registration_method.AddCommand(\n",
    "        sitk.sitkIterationEvent, lambda: plot_values(registration_method)\n",
    "    )\n",
    "    \n",
    "    tx = registration_method.Execute(fixed_image, moving_image)\n",
    "    \n",
    "    print(f\"Final metric value: {registration_method.GetMetricValue()}\")\n",
    "    print(\n",
    "        f\"Optimizer's stopping condition, {registration_method.GetOptimizerStopConditionDescription()}\"\n",
    "    )\n",
    "    \n",
    "    return tx"
   ]
  },
  {
   "cell_type": "code",
   "execution_count": 6,
   "id": "a9fc6469",
   "metadata": {},
   "outputs": [
    {
     "data": {
      "image/png": "[encoded data removed]",
      "text/plain": [
       "<Figure size 432x288 with 1 Axes>"
      ]
     },
     "metadata": {
      "needs_background": "light"
     },
     "output_type": "display_data"
    },
    {
     "name": "stdout",
     "output_type": "stream",
     "text": [
      "Final metric value: 182244.43908720938\n",
      "Optimizer's stopping condition, GradientDescentOptimizerv4Template: Convergence checker passed at iteration 20.\n"
     ]
    }
   ],
   "source": [
    "tx = demons_registration(fixed_image, moving_image)"
   ]
  },
  {
   "cell_type": "code",
   "execution_count": 7,
   "id": "daba650a",
   "metadata": {},
   "outputs": [
    {
     "data": {
      "application/vnd.jupyter.widget-view+json": {
       "model_id": "8c9fc5873efd48fba58aba98b7219486",
       "version_major": 2,
       "version_minor": 0
      },
      "text/plain": [
       "interactive(children=(IntSlider(value=52, description='image_z', max=105), FloatSlider(value=0.5, description=…"
      ]
     },
     "metadata": {},
     "output_type": "display_data"
    }
   ],
   "source": [
    "moving_resampled = sitk.Resample(\n",
    "    moving_image,\n",
    "    fixed_image,\n",
    "    tx,\n",
    "    sitk.sitkLinear,\n",
    "    0.0,\n",
    "    moving_image.GetPixelID(),\n",
    ")\n",
    "\n",
    "interact(\n",
    "    display_images_with_alpha,\n",
    "    image_z=(0, fixed_image.GetSize()[2] - 1),\n",
    "    alpha=(0.0, 1.0, 0.05),\n",
    "    fixed=fixed(fixed_image),\n",
    "    moving=fixed(moving_resampled),\n",
    ");"
   ]
  }
 ],
 "metadata": {
  "kernelspec": {
   "display_name": "Python 3 (ipykernel)",
   "language": "python",
   "name": "python3"
  },
  "language_info": {
   "codemirror_mode": {
    "name": "ipython",
    "version": 3
   },
   "file_extension": ".py",
   "mimetype": "text/x-python",
   "name": "python",
   "nbconvert_exporter": "python",
   "pygments_lexer": "ipython3",
   "version": "3.9.10"
  }
 },
 "nbformat": 4,
 "nbformat_minor": 5
}
