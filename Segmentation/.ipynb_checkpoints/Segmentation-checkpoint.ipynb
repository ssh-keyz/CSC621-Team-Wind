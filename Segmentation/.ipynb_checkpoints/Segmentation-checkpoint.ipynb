{
 "cells": [
  {
   "cell_type": "code",
   "execution_count": 2,
   "id": "6285590e",
   "metadata": {},
   "outputs": [],
   "source": [
    "import SimpleITK as sitk\n",
    "import itk\n",
    "import sys\n",
    "import pandas as pd\n",
    "import numpy as np\n",
    "import matplotlib.pyplot as plt\n",
    "from math import ceil\n",
    "from IPython import display\n",
    "import pydicom\n",
    "from pydicom.data import get_testdata_files as view\n",
    "import argparse\n",
    "import pydicom as dicom\n",
    "from pydicom import dcmread\n",
    "from pydicom.pixel_data_handlers.util import apply_voi_lut"
   ]
  },
  {
   "cell_type": "code",
   "execution_count": 3,
   "id": "b8290a8b",
   "metadata": {},
   "outputs": [
    {
     "name": "stdout",
     "output_type": "stream",
     "text": [
      "Dataset has windowing\n"
     ]
    },
    {
     "ename": "NameError",
     "evalue": "name 'png' is not defined",
     "output_type": "error",
     "traceback": [
      "\u001b[0;31m---------------------------------------------------------------------------\u001b[0m",
      "\u001b[0;31mNameError\u001b[0m                                 Traceback (most recent call last)",
      "\u001b[0;32m/var/folders/f3/bddljq6539vc779w3t2c3py80000gn/T/ipykernel_11440/24777699.py\u001b[0m in \u001b[0;36m<module>\u001b[0;34m\u001b[0m\n\u001b[1;32m     18\u001b[0m \u001b[0;31m# Write the PNG file\u001b[0m\u001b[0;34m\u001b[0m\u001b[0;34m\u001b[0m\u001b[0m\n\u001b[1;32m     19\u001b[0m \u001b[0;32mwith\u001b[0m \u001b[0mopen\u001b[0m\u001b[0;34m(\u001b[0m\u001b[0;34mf'{\"input.dcm\".strip(\".dcm\")}.png'\u001b[0m\u001b[0;34m,\u001b[0m \u001b[0;34m'wb'\u001b[0m\u001b[0;34m)\u001b[0m \u001b[0;32mas\u001b[0m \u001b[0mpng_file\u001b[0m\u001b[0;34m:\u001b[0m\u001b[0;34m\u001b[0m\u001b[0;34m\u001b[0m\u001b[0m\n\u001b[0;32m---> 20\u001b[0;31m     \u001b[0mw\u001b[0m \u001b[0;34m=\u001b[0m \u001b[0mpng\u001b[0m\u001b[0;34m.\u001b[0m\u001b[0mWriter\u001b[0m\u001b[0;34m(\u001b[0m\u001b[0mshape\u001b[0m\u001b[0;34m[\u001b[0m\u001b[0;36m1\u001b[0m\u001b[0;34m]\u001b[0m\u001b[0;34m,\u001b[0m \u001b[0mshape\u001b[0m\u001b[0;34m[\u001b[0m\u001b[0;36m0\u001b[0m\u001b[0;34m]\u001b[0m\u001b[0;34m,\u001b[0m \u001b[0mgreyscale\u001b[0m\u001b[0;34m=\u001b[0m\u001b[0;32mTrue\u001b[0m\u001b[0;34m)\u001b[0m\u001b[0;34m\u001b[0m\u001b[0;34m\u001b[0m\u001b[0m\n\u001b[0m\u001b[1;32m     21\u001b[0m     \u001b[0mw\u001b[0m\u001b[0;34m.\u001b[0m\u001b[0mwrite\u001b[0m\u001b[0;34m(\u001b[0m\u001b[0mpng_file\u001b[0m\u001b[0;34m,\u001b[0m \u001b[0mimage_2d_scaled\u001b[0m\u001b[0;34m)\u001b[0m\u001b[0;34m\u001b[0m\u001b[0;34m\u001b[0m\u001b[0m\n",
      "\u001b[0;31mNameError\u001b[0m: name 'png' is not defined"
     ]
    }
   ],
   "source": [
    "\n",
    "\n",
    "ds = pydicom.dcmread(\"input.dcm\")\n",
    "if 'WindowWidth' in ds:\n",
    "    print('Dataset has windowing')\n",
    "\n",
    "windowed = apply_voi_lut(ds.pixel_array, ds)\n",
    "\n",
    "shape = ds.pixel_array.shape\n",
    "\n",
    "# Convert to float to avoid overflow or underflow losses.\n",
    "image_2d = ds.pixel_array.astype(float)\n",
    "\n",
    "# Rescaling grey scale between 0-255\n",
    "image_2d_scaled = (np.maximum(image_2d,0) / image_2d.max()) * 255.0\n",
    "\n",
    "# Convert to uint\n",
    "image_2d_scaled = np.uint8(image_2d_scaled)\n",
    "\n",
    "# Write the PNG file\n",
    "with open(f'{\"input.dcm\".strip(\".dcm\")}.png', 'wb') as png_file:\n",
    "    w = png.Writer(shape[1], shape[0], greyscale=True)\n",
    "    w.write(png_file, image_2d_scaled)"
   ]
  },
  {
   "cell_type": "markdown",
   "id": "7a5b8f44",
   "metadata": {},
   "source": [
    "from downloaddata import fetch_data, fetch_data_all\n"
   ]
  },
  {
   "cell_type": "code",
   "execution_count": 15,
   "id": "76a00352",
   "metadata": {},
   "outputs": [
    {
     "name": "stdout",
     "output_type": "stream",
     "text": [
      "env: SITK_SHOW_COMMAND=/Applications/ITK-SNAP.app/Contents/MacOS/ITK-SNAP\n"
     ]
    },
    {
     "ename": "AttributeError",
     "evalue": "'str' object has no attribute 'dcm'",
     "output_type": "error",
     "traceback": [
      "\u001b[0;31m---------------------------------------------------------------------------\u001b[0m",
      "\u001b[0;31mAttributeError\u001b[0m                            Traceback (most recent call last)",
      "Input \u001b[0;32mIn [15]\u001b[0m, in \u001b[0;36m<cell line: 2>\u001b[0;34m()\u001b[0m\n\u001b[1;32m      1\u001b[0m get_ipython()\u001b[38;5;241m.\u001b[39mrun_line_magic(\u001b[38;5;124m'\u001b[39m\u001b[38;5;124menv\u001b[39m\u001b[38;5;124m'\u001b[39m, \u001b[38;5;124m'\u001b[39m\u001b[38;5;124mSITK_SHOW_COMMAND /Applications/ITK-SNAP.app/Contents/MacOS/ITK-SNAP\u001b[39m\u001b[38;5;124m'\u001b[39m)\n\u001b[0;32m----> 2\u001b[0m image_viewer \u001b[38;5;241m=\u001b[39m sitk\u001b[38;5;241m.\u001b[39mImageViewer(\u001b[38;5;28;43minput\u001b[39;49m\u001b[38;5;241;43m.\u001b[39;49m\u001b[43mdcm\u001b[49m)\n",
      "\u001b[0;31mAttributeError\u001b[0m: 'str' object has no attribute 'dcm'"
     ]
    }
   ],
   "source": [
    "# %env SITK_SHOW_COMMAND /Applications/ITK-SNAP.app/Contents/MacOS/ITK-SNAP\n",
    "# image_viewer = sitk.ImageViewer(input.dcm)\n",
    "image_path = 'input.png'\n",
    "ds = dicom.dcmread(image_path)\n",
    "\n",
    "plt.imshow(ds.pixel_array)"
   ]
  },
  {
   "cell_type": "code",
   "execution_count": 6,
   "id": "1e2859fe",
   "metadata": {},
   "outputs": [],
   "source": [
    "input = \"input.png\"\n",
    "output = \"output.png\"\n",
    "threshold = float(0.002)\n",
    "level = float(.2)\n",
    "\n",
    "Dimension = 2\n",
    "\n",
    "FloatPixelType = itk.ctype(\"float\")\n",
    "FloatImageType = itk.Image[FloatPixelType, Dimension]\n",
    "\n",
    "reader = itk.ImageFileReader[FloatImageType].New()\n",
    "reader.SetFileName(input)\n",
    "\n",
    "gradientMagnitude = itk.GradientMagnitudeImageFilter.New(Input=reader.GetOutput())\n",
    "\n",
    "watershed = itk.WatershedImageFilter.New(Input=gradientMagnitude.GetOutput())\n",
    "\n",
    "watershed.SetThreshold(threshold)\n",
    "watershed.SetLevel(level)\n",
    "\n",
    "LabeledImageType = type(watershed.GetOutput())\n",
    "\n",
    "PixelType = itk.ctype(\"unsigned char\")\n",
    "RGBPixelType = itk.RGBPixel[PixelType]\n",
    "RGBImageType = itk.Image[RGBPixelType, Dimension]\n",
    "\n",
    "ScalarToRGBColormapFilterType = itk.ScalarToRGBColormapImageFilter[\n",
    "    LabeledImageType, RGBImageType\n",
    "]\n",
    "colormapImageFilter = ScalarToRGBColormapFilterType.New()\n",
    "colormapImageFilter.SetColormap(\n",
    "    itk.ScalarToRGBColormapImageFilterEnums.RGBColormapFilter_Jet\n",
    ")\n",
    "colormapImageFilter.SetInput(watershed.GetOutput())\n",
    "colormapImageFilter.Update()\n",
    "\n",
    "WriterType = itk.ImageFileWriter[RGBImageType]\n",
    "writer = WriterType.New()\n",
    "writer.SetFileName(output)\n",
    "writer.SetInput(colormapImageFilter.GetOutput())\n",
    "writer.Update()"
   ]
  },
  {
   "cell_type": "code",
   "execution_count": null,
   "id": "3c2c2e78",
   "metadata": {
    "pycharm": {
     "is_executing": true
    }
   },
   "outputs": [],
   "source": [
    "%tb\n"
   ]
  },
  {
   "cell_type": "code",
   "execution_count": null,
   "id": "9387d2f2",
   "metadata": {
    "pycharm": {
     "name": "#%%\n"
    }
   },
   "outputs": [],
   "source": []
  }
 ],
 "metadata": {
  "kernelspec": {
   "display_name": "Python 3 (ipykernel)",
   "language": "python",
   "name": "python3"
  },
  "language_info": {
   "codemirror_mode": {
    "name": "ipython",
    "version": 3
   },
   "file_extension": ".py",
   "mimetype": "text/x-python",
   "name": "python",
   "nbconvert_exporter": "python",
   "pygments_lexer": "ipython3",
   "version": "3.9.7"
  }
 },
 "nbformat": 4,
 "nbformat_minor": 5
}
