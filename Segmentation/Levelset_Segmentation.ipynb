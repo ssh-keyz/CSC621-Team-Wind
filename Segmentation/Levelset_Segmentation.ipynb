{
 "cells": [
  {
   "cell_type": "markdown",
   "metadata": {},
   "source": [
    "# Levelset Segmentation <a href=\"https://mybinder.org/v2/gh/InsightSoftwareConsortium/SimpleITK-Notebooks/master?filepath=Python%2F31_Levelset_Segmentation.ipynb\"><img style=\"float: right;\" src=\"https://mybinder.org/badge_logo.svg\"></a>\n"
   ]
  },
  {
   "cell_type": "code",
   "execution_count": null,
   "metadata": {},
   "outputs": [],
   "source": [
    "%matplotlib inline\n",
    "import matplotlib.pyplot as plt\n",
    "import SimpleITK as sitk\n",
    "from myshow import myshow, myshow3d\n",
    "%run update_path_to_download_script\n",
    "from downloaddata import fetch_data as fdata"
   ]
  },
  {
   "cell_type": "code",
   "execution_count": 11,
   "metadata": {},
   "outputs": [
    {
     "ename": "AssertionError",
     "evalue": "ERROR, /Users/gaolarry/Desktop/Covid-19 Images/CSC621-Team-Wind/Segmentation/../Data/manifest.json does not exist",
     "output_type": "error",
     "traceback": [
      "\u001b[0;31m---------------------------------------------------------------------------\u001b[0m",
      "\u001b[0;31mAssertionError\u001b[0m                            Traceback (most recent call last)",
      "\u001b[0;32m/var/folders/f3/bddljq6539vc779w3t2c3py80000gn/T/ipykernel_30777/587370769.py\u001b[0m in \u001b[0;36m<module>\u001b[0;34m\u001b[0m\n\u001b[0;32m----> 1\u001b[0;31m \u001b[0mimg_T1\u001b[0m \u001b[0;34m=\u001b[0m \u001b[0msitk\u001b[0m\u001b[0;34m.\u001b[0m\u001b[0mReadImage\u001b[0m\u001b[0;34m(\u001b[0m\u001b[0mfdata\u001b[0m\u001b[0;34m(\u001b[0m\u001b[0;34m\"nac-hncma-atlas2013-Slicer4Version/Data/A1_grayT1.nrrd\"\u001b[0m\u001b[0;34m)\u001b[0m\u001b[0;34m)\u001b[0m\u001b[0;34m\u001b[0m\u001b[0;34m\u001b[0m\u001b[0m\n\u001b[0m\u001b[1;32m      2\u001b[0m \u001b[0mimg_T2\u001b[0m \u001b[0;34m=\u001b[0m \u001b[0msitk\u001b[0m\u001b[0;34m.\u001b[0m\u001b[0mReadImage\u001b[0m\u001b[0;34m(\u001b[0m\u001b[0mfdata\u001b[0m\u001b[0;34m(\u001b[0m\u001b[0;34m\"nac-hncma-atlas2013-Slicer4Version/Data/A1_grayT2.nrrd\"\u001b[0m\u001b[0;34m)\u001b[0m\u001b[0;34m)\u001b[0m\u001b[0;34m\u001b[0m\u001b[0;34m\u001b[0m\u001b[0m\n\u001b[1;32m      3\u001b[0m \u001b[0mimg_T1_255\u001b[0m \u001b[0;34m=\u001b[0m \u001b[0msitk\u001b[0m\u001b[0;34m.\u001b[0m\u001b[0mCast\u001b[0m\u001b[0;34m(\u001b[0m\u001b[0msitk\u001b[0m\u001b[0;34m.\u001b[0m\u001b[0mRescaleIntensity\u001b[0m\u001b[0;34m(\u001b[0m\u001b[0mimg_T1\u001b[0m\u001b[0;34m)\u001b[0m\u001b[0;34m,\u001b[0m \u001b[0msitk\u001b[0m\u001b[0;34m.\u001b[0m\u001b[0msitkUInt8\u001b[0m\u001b[0;34m)\u001b[0m\u001b[0;34m\u001b[0m\u001b[0;34m\u001b[0m\u001b[0m\n\u001b[1;32m      4\u001b[0m \u001b[0mimg_T1_255\u001b[0m \u001b[0;34m=\u001b[0m \u001b[0msitk\u001b[0m\u001b[0;34m.\u001b[0m\u001b[0mCast\u001b[0m\u001b[0;34m(\u001b[0m\u001b[0msitk\u001b[0m\u001b[0;34m.\u001b[0m\u001b[0mRescaleIntensity\u001b[0m\u001b[0;34m(\u001b[0m\u001b[0mimg_T1\u001b[0m\u001b[0;34m)\u001b[0m\u001b[0;34m,\u001b[0m \u001b[0msitk\u001b[0m\u001b[0;34m.\u001b[0m\u001b[0msitkUInt8\u001b[0m\u001b[0;34m)\u001b[0m\u001b[0;34m\u001b[0m\u001b[0;34m\u001b[0m\u001b[0m\n",
      "\u001b[0;32m~/Desktop/Covid-19 Images/CSC621-Team-Wind/Segmentation/downloaddata.py\u001b[0m in \u001b[0;36mfetch_data\u001b[0;34m(cache_file_name, verify, cache_directory_name)\u001b[0m\n\u001b[1;32m    249\u001b[0m         \u001b[0mcache_directory_name\u001b[0m \u001b[0;34m=\u001b[0m \u001b[0mos\u001b[0m\u001b[0;34m.\u001b[0m\u001b[0mpath\u001b[0m\u001b[0;34m.\u001b[0m\u001b[0mjoin\u001b[0m\u001b[0;34m(\u001b[0m\u001b[0mcache_root_directory_name\u001b[0m\u001b[0;34m,\u001b[0m \u001b[0mcache_directory_name\u001b[0m\u001b[0;34m)\u001b[0m\u001b[0;34m\u001b[0m\u001b[0;34m\u001b[0m\u001b[0m\n\u001b[1;32m    250\u001b[0m     \u001b[0mcache_manifest_file\u001b[0m \u001b[0;34m=\u001b[0m \u001b[0mos\u001b[0m\u001b[0;34m.\u001b[0m\u001b[0mpath\u001b[0m\u001b[0;34m.\u001b[0m\u001b[0mjoin\u001b[0m\u001b[0;34m(\u001b[0m\u001b[0mcache_directory_name\u001b[0m\u001b[0;34m,\u001b[0m \u001b[0;34m'manifest.json'\u001b[0m\u001b[0;34m)\u001b[0m\u001b[0;34m\u001b[0m\u001b[0;34m\u001b[0m\u001b[0m\n\u001b[0;32m--> 251\u001b[0;31m     \u001b[0;32massert\u001b[0m \u001b[0mos\u001b[0m\u001b[0;34m.\u001b[0m\u001b[0mpath\u001b[0m\u001b[0;34m.\u001b[0m\u001b[0mexists\u001b[0m\u001b[0;34m(\u001b[0m\u001b[0mcache_manifest_file\u001b[0m\u001b[0;34m)\u001b[0m\u001b[0;34m,\u001b[0m \u001b[0;34m\"ERROR, {0} does not exist\"\u001b[0m\u001b[0;34m.\u001b[0m\u001b[0mformat\u001b[0m\u001b[0;34m(\u001b[0m\u001b[0mcache_manifest_file\u001b[0m\u001b[0;34m)\u001b[0m\u001b[0;34m\u001b[0m\u001b[0;34m\u001b[0m\u001b[0m\n\u001b[0m\u001b[1;32m    252\u001b[0m     \u001b[0;32mreturn\u001b[0m \u001b[0mfetch_data_one\u001b[0m\u001b[0;34m(\u001b[0m\u001b[0mcache_file_name\u001b[0m\u001b[0;34m,\u001b[0m \u001b[0mcache_directory_name\u001b[0m\u001b[0;34m,\u001b[0m \u001b[0mcache_manifest_file\u001b[0m\u001b[0;34m,\u001b[0m \u001b[0mverify\u001b[0m\u001b[0;34m=\u001b[0m\u001b[0mverify\u001b[0m\u001b[0;34m)\u001b[0m\u001b[0;34m\u001b[0m\u001b[0;34m\u001b[0m\u001b[0m\n\u001b[1;32m    253\u001b[0m \u001b[0;34m\u001b[0m\u001b[0m\n",
      "\u001b[0;31mAssertionError\u001b[0m: ERROR, /Users/gaolarry/Desktop/Covid-19 Images/CSC621-Team-Wind/Segmentation/../Data/manifest.json does not exist"
     ]
    }
   ],
   "source": [
    "img_T1 = sitk.ReadImage(fdata(\"nac-hncma-atlas2013-Slicer4Version/Data/A1_grayT1.nrrd\"))\n",
    "img_T2 = sitk.ReadImage(fdata(\"nac-hncma-atlas2013-Slicer4Version/Data/A1_grayT2.nrrd\"))\n",
    "img_T1_255 = sitk.Cast(sitk.RescaleIntensity(img_T1), sitk.sitkUInt8)\n",
    "img_T1_255 = sitk.Cast(sitk.RescaleIntensity(img_T1), sitk.sitkUInt8)"
   ]
  },
  {
   "cell_type": "code",
   "execution_count": 13,
   "metadata": {
    "simpleitk_error_allowed": "Exception thrown in SimpleITK Show:"
   },
   "outputs": [
    {
     "ename": "AttributeError",
     "evalue": "'Image' object has no attribute 'show'",
     "output_type": "error",
     "traceback": [
      "\u001b[0;31m---------------------------------------------------------------------------\u001b[0m",
      "\u001b[0;31mAttributeError\u001b[0m                            Traceback (most recent call last)",
      "\u001b[0;32m/var/folders/f3/bddljq6539vc779w3t2c3py80000gn/T/ipykernel_29231/2002503929.py\u001b[0m in \u001b[0;36m<module>\u001b[0;34m\u001b[0m\n\u001b[1;32m      1\u001b[0m \u001b[0;31m# sitk.Show(img_T1, title=\"T1\")\u001b[0m\u001b[0;34m\u001b[0m\u001b[0;34m\u001b[0m\u001b[0m\n\u001b[0;32m----> 2\u001b[0;31m \u001b[0mimg_T1\u001b[0m\u001b[0;34m.\u001b[0m\u001b[0mshow\u001b[0m\u001b[0;34m(\u001b[0m\u001b[0;34m)\u001b[0m\u001b[0;34m\u001b[0m\u001b[0;34m\u001b[0m\u001b[0m\n\u001b[0m",
      "\u001b[0;31mAttributeError\u001b[0m: 'Image' object has no attribute 'show'"
     ]
    }
   ],
   "source": [
    "sitk.Show(img_T1, title=\"T1\")"
   ]
  },
  {
   "cell_type": "code",
   "execution_count": null,
   "metadata": {},
   "outputs": [],
   "source": [
    "idx = (106, 116, 141)\n",
    "pt = img_T1.TransformIndexToPhysicalPoint(idx)"
   ]
  },
  {
   "cell_type": "code",
   "execution_count": 14,
   "metadata": {},
   "outputs": [
    {
     "ename": "NameError",
     "evalue": "name 'idx' is not defined",
     "output_type": "error",
     "traceback": [
      "\u001b[0;31m---------------------------------------------------------------------------\u001b[0m",
      "\u001b[0;31mNameError\u001b[0m                                 Traceback (most recent call last)",
      "\u001b[0;32m/var/folders/f3/bddljq6539vc779w3t2c3py80000gn/T/ipykernel_29231/1330379749.py\u001b[0m in \u001b[0;36m<module>\u001b[0;34m\u001b[0m\n\u001b[1;32m      1\u001b[0m \u001b[0mseg\u001b[0m \u001b[0;34m=\u001b[0m \u001b[0msitk\u001b[0m\u001b[0;34m.\u001b[0m\u001b[0mImage\u001b[0m\u001b[0;34m(\u001b[0m\u001b[0mimg_T1\u001b[0m\u001b[0;34m.\u001b[0m\u001b[0mGetSize\u001b[0m\u001b[0;34m(\u001b[0m\u001b[0;34m)\u001b[0m\u001b[0;34m,\u001b[0m \u001b[0msitk\u001b[0m\u001b[0;34m.\u001b[0m\u001b[0msitkUInt8\u001b[0m\u001b[0;34m)\u001b[0m\u001b[0;34m\u001b[0m\u001b[0;34m\u001b[0m\u001b[0m\n\u001b[1;32m      2\u001b[0m \u001b[0mseg\u001b[0m\u001b[0;34m.\u001b[0m\u001b[0mCopyInformation\u001b[0m\u001b[0;34m(\u001b[0m\u001b[0mimg_T1\u001b[0m\u001b[0;34m)\u001b[0m\u001b[0;34m\u001b[0m\u001b[0;34m\u001b[0m\u001b[0m\n\u001b[0;32m----> 3\u001b[0;31m \u001b[0mseg\u001b[0m\u001b[0;34m[\u001b[0m\u001b[0midx\u001b[0m\u001b[0;34m]\u001b[0m \u001b[0;34m=\u001b[0m \u001b[0;36m1\u001b[0m\u001b[0;34m\u001b[0m\u001b[0;34m\u001b[0m\u001b[0m\n\u001b[0m\u001b[1;32m      4\u001b[0m \u001b[0mseg\u001b[0m \u001b[0;34m=\u001b[0m \u001b[0msitk\u001b[0m\u001b[0;34m.\u001b[0m\u001b[0mBinaryDilate\u001b[0m\u001b[0;34m(\u001b[0m\u001b[0mseg\u001b[0m\u001b[0;34m,\u001b[0m \u001b[0;34m[\u001b[0m\u001b[0;36m3\u001b[0m\u001b[0;34m]\u001b[0m \u001b[0;34m*\u001b[0m \u001b[0;36m3\u001b[0m\u001b[0;34m)\u001b[0m\u001b[0;34m\u001b[0m\u001b[0;34m\u001b[0m\u001b[0m\n\u001b[1;32m      5\u001b[0m myshow3d(\n",
      "\u001b[0;31mNameError\u001b[0m: name 'idx' is not defined"
     ]
    }
   ],
   "source": [
    "seg = sitk.Image(img_T1.GetSize(), sitk.sitkUInt8)\n",
    "seg.CopyInformation(img_T1)\n",
    "seg[idx] = 1\n",
    "seg = sitk.BinaryDilate(seg, [3] * 3)\n",
    "myshow3d(\n",
    "    sitk.LabelOverlay(img_T1_255, seg),\n",
    "    zslices=range(idx[2] - 3, idx[2] + 4, 3),\n",
    "    dpi=30,\n",
    "    title=\"Initial Seed\",\n",
    ")"
   ]
  },
  {
   "cell_type": "code",
   "execution_count": 15,
   "metadata": {},
   "outputs": [
    {
     "name": "stdout",
     "output_type": "stream",
     "text": [
      "itk::simple::LabelStatisticsImageFilter\n",
      "  UseHistograms: 1\n",
      "  Labels: [ 0 ]\n",
      "  Debug: 0\n",
      "  NumberOfThreads: 8\n",
      "  NumberOfWorkUnits: 0\n",
      "  Commands: (none)\n",
      "  ProgressMeasurement: 0\n",
      "  ActiveProcess:\n",
      "    LabelStatisticsImageFilter (0x7fc3a22049d0)\n",
      "      RTTI typeinfo:   itk::LabelStatisticsImageFilter<itk::Image<float, 3u>, itk::Image<unsigned char, 3u> >\n",
      "      Reference Count: 1\n",
      "      Modified Time: 1308\n",
      "      Debug: Off\n",
      "      Object Name: \n",
      "      Observers: \n",
      "        DeleteEvent(FunctionCommand)\n",
      "      Inputs: \n",
      "        LabelInput: (0x7fc3a2307c30) *\n",
      "        Primary: (0x7fc381f05910) *\n",
      "      Indexed Inputs: \n",
      "        0: Primary (0x7fc381f05910)\n",
      "      Required Input Names: LabelInput, Primary\n",
      "      NumberOfRequiredInputs: 1\n",
      "      Outputs: \n",
      "        Primary: (0x0)\n",
      "      Indexed Outputs: \n",
      "        0: Primary (0x0)\n",
      "      NumberOfRequiredOutputs: 0\n",
      "      Number Of Work Units: 8\n",
      "      ReleaseDataFlag: Off\n",
      "      ReleaseDataBeforeUpdateFlag: On\n",
      "      AbortGenerateData: Off\n",
      "      Progress: 1\n",
      "      Multithreader: \n",
      "        RTTI typeinfo:   itk::PlatformMultiThreader\n",
      "        Reference Count: 1\n",
      "        Modified Time: 1299\n",
      "        Debug: Off\n",
      "        Object Name: \n",
      "        Observers: \n",
      "          none\n",
      "        Number of Work Units: 8\n",
      "        Number of Threads: 8\n",
      "        Global Maximum Number Of Threads: 128\n",
      "        Global Default Number Of Threads: 8\n",
      "        Global Default Threader Type: itk::MultiThreaderBaseEnums::Threader::Platform\n",
      "        SingleMethod: 1\n",
      "        SingleData: 0x302a945d0\n",
      "      Current Request Number: -1\n",
      "      NumberOfStreamDivisions: 1\n",
      "      RegionSplitter: ImageRegionSplitterSlowDimension (0x600000ea0000)\n",
      "  RTTI typeinfo:   itk::ImageRegionSplitterSlowDimension\n",
      "  Reference Count: 2\n",
      "  Modified Time: 1301\n",
      "  Debug: Off\n",
      "  Object Name: \n",
      "  Observers: \n",
      "    none\n",
      "\n",
      "      CoordinateTolerance: 1e-06\n",
      "      DirectionTolerance: 1e-06\n",
      "      Number of labels: 1\n",
      "      Use Histograms: 1\n",
      "      Histogram Lower Bound: -4374.11\n",
      "      Histogram Upper Bound: 22370.4\n",
      "\n"
     ]
    }
   ],
   "source": [
    "stats = sitk.LabelStatisticsImageFilter()\n",
    "stats.Execute(img_T1, seg)\n",
    "print(stats)"
   ]
  },
  {
   "cell_type": "code",
   "execution_count": 16,
   "metadata": {},
   "outputs": [],
   "source": [
    "factor = 1.5\n",
    "lower_threshold = stats.GetMean(1) - factor * stats.GetSigma(1)\n",
    "upper_threshold = stats.GetMean(1) + factor * stats.GetSigma(1)"
   ]
  },
  {
   "cell_type": "code",
   "execution_count": 17,
   "metadata": {},
   "outputs": [],
   "source": [
    "init_ls = sitk.SignedMaurerDistanceMap(seg, insideIsPositive=True, useImageSpacing=True)"
   ]
  },
  {
   "cell_type": "code",
   "execution_count": 18,
   "metadata": {},
   "outputs": [
    {
     "name": "stdout",
     "output_type": "stream",
     "text": [
      "itk::simple::ThresholdSegmentationLevelSetImageFilter\n",
      "  LowerThreshold: 0\n",
      "  UpperThreshold: 0\n",
      "  MaximumRMSError: 0.02\n",
      "  PropagationScaling: 1\n",
      "  CurvatureScaling: 1\n",
      "  NumberOfIterations: 100\n",
      "  ReverseExpansionDirection: 1\n",
      "  ElapsedIterations: 1\n",
      "  RMSChange: 0\n",
      "  Debug: 0\n",
      "  NumberOfThreads: 8\n",
      "  NumberOfWorkUnits: 0\n",
      "  Commands: (none)\n",
      "  ProgressMeasurement: 0.01\n",
      "  ActiveProcess: (none)\n",
      "\n"
     ]
    }
   ],
   "source": [
    "lsFilter = sitk.ThresholdSegmentationLevelSetImageFilter()\n",
    "lsFilter.SetLowerThreshold(lower_threshold)\n",
    "lsFilter.SetUpperThreshold(upper_threshold)\n",
    "lsFilter.SetMaximumRMSError(0.02)\n",
    "lsFilter.SetNumberOfIterations(100)\n",
    "lsFilter.SetCurvatureScaling(1)\n",
    "lsFilter.SetPropagationScaling(1)\n",
    "lsFilter.ReverseExpansionDirectionOn()\n",
    "ls = lsFilter.Execute(init_ls, sitk.Cast(img_T1, sitk.sitkFloat32))\n",
    "print(lsFilter)"
   ]
  },
  {
   "cell_type": "code",
   "execution_count": 19,
   "metadata": {},
   "outputs": [
    {
     "ename": "NameError",
     "evalue": "name 'idx' is not defined",
     "output_type": "error",
     "traceback": [
      "\u001b[0;31m---------------------------------------------------------------------------\u001b[0m",
      "\u001b[0;31mNameError\u001b[0m                                 Traceback (most recent call last)",
      "\u001b[0;32m/var/folders/f3/bddljq6539vc779w3t2c3py80000gn/T/ipykernel_29231/675455725.py\u001b[0m in \u001b[0;36m<module>\u001b[0;34m\u001b[0m\n\u001b[1;32m      3\u001b[0m myshow3d(\n\u001b[1;32m      4\u001b[0m     \u001b[0msitk\u001b[0m\u001b[0;34m.\u001b[0m\u001b[0mLabelOverlay\u001b[0m\u001b[0;34m(\u001b[0m\u001b[0mimg_T1_255\u001b[0m\u001b[0;34m,\u001b[0m \u001b[0mls\u001b[0m \u001b[0;34m>\u001b[0m \u001b[0;36m0\u001b[0m\u001b[0;34m)\u001b[0m\u001b[0;34m,\u001b[0m\u001b[0;34m\u001b[0m\u001b[0;34m\u001b[0m\u001b[0m\n\u001b[0;32m----> 5\u001b[0;31m     \u001b[0mzslices\u001b[0m\u001b[0;34m=\u001b[0m\u001b[0mrange\u001b[0m\u001b[0;34m(\u001b[0m\u001b[0midx\u001b[0m\u001b[0;34m[\u001b[0m\u001b[0;36m2\u001b[0m\u001b[0;34m]\u001b[0m \u001b[0;34m-\u001b[0m \u001b[0mzslice_offset\u001b[0m\u001b[0;34m,\u001b[0m \u001b[0midx\u001b[0m\u001b[0;34m[\u001b[0m\u001b[0;36m2\u001b[0m\u001b[0;34m]\u001b[0m \u001b[0;34m+\u001b[0m \u001b[0mzslice_offset\u001b[0m \u001b[0;34m+\u001b[0m \u001b[0;36m1\u001b[0m\u001b[0;34m,\u001b[0m \u001b[0mzslice_offset\u001b[0m\u001b[0;34m)\u001b[0m\u001b[0;34m,\u001b[0m\u001b[0;34m\u001b[0m\u001b[0;34m\u001b[0m\u001b[0m\n\u001b[0m\u001b[1;32m      6\u001b[0m     \u001b[0mdpi\u001b[0m\u001b[0;34m=\u001b[0m\u001b[0;36m20\u001b[0m\u001b[0;34m,\u001b[0m\u001b[0;34m\u001b[0m\u001b[0;34m\u001b[0m\u001b[0m\n\u001b[1;32m      7\u001b[0m     \u001b[0mtitle\u001b[0m\u001b[0;34m=\u001b[0m\u001b[0mt\u001b[0m\u001b[0;34m,\u001b[0m\u001b[0;34m\u001b[0m\u001b[0;34m\u001b[0m\u001b[0m\n",
      "\u001b[0;31mNameError\u001b[0m: name 'idx' is not defined"
     ]
    }
   ],
   "source": [
    "zslice_offset = 4\n",
    "t = \"LevelSet after \" + str(lsFilter.GetNumberOfIterations()) + \" iterations\"\n",
    "myshow3d(\n",
    "    sitk.LabelOverlay(img_T1_255, ls > 0),\n",
    "    zslices=range(idx[2] - zslice_offset, idx[2] + zslice_offset + 1, zslice_offset),\n",
    "    dpi=20,\n",
    "    title=t,\n",
    ")"
   ]
  },
  {
   "cell_type": "code",
   "execution_count": 20,
   "metadata": {},
   "outputs": [
    {
     "ename": "NameError",
     "evalue": "name 'idx' is not defined",
     "output_type": "error",
     "traceback": [
      "\u001b[0;31m---------------------------------------------------------------------------\u001b[0m",
      "\u001b[0;31mNameError\u001b[0m                                 Traceback (most recent call last)",
      "\u001b[0;32m/var/folders/f3/bddljq6539vc779w3t2c3py80000gn/T/ipykernel_29231/1736717716.py\u001b[0m in \u001b[0;36m<module>\u001b[0;34m\u001b[0m\n\u001b[1;32m     15\u001b[0m         \u001b[0msitk\u001b[0m\u001b[0;34m.\u001b[0m\u001b[0mLabelOverlay\u001b[0m\u001b[0;34m(\u001b[0m\u001b[0mimg_T1_255\u001b[0m\u001b[0;34m,\u001b[0m \u001b[0mls\u001b[0m \u001b[0;34m>\u001b[0m \u001b[0;36m0\u001b[0m\u001b[0;34m)\u001b[0m\u001b[0;34m,\u001b[0m\u001b[0;34m\u001b[0m\u001b[0;34m\u001b[0m\u001b[0m\n\u001b[1;32m     16\u001b[0m         zslices=range(\n\u001b[0;32m---> 17\u001b[0;31m             \u001b[0midx\u001b[0m\u001b[0;34m[\u001b[0m\u001b[0;36m2\u001b[0m\u001b[0;34m]\u001b[0m \u001b[0;34m-\u001b[0m \u001b[0mzslice_offset\u001b[0m\u001b[0;34m,\u001b[0m \u001b[0midx\u001b[0m\u001b[0;34m[\u001b[0m\u001b[0;36m2\u001b[0m\u001b[0;34m]\u001b[0m \u001b[0;34m+\u001b[0m \u001b[0mzslice_offset\u001b[0m \u001b[0;34m+\u001b[0m \u001b[0;36m1\u001b[0m\u001b[0;34m,\u001b[0m \u001b[0mzslice_offset\u001b[0m\u001b[0;34m\u001b[0m\u001b[0;34m\u001b[0m\u001b[0m\n\u001b[0m\u001b[1;32m     18\u001b[0m         ),\n\u001b[1;32m     19\u001b[0m         \u001b[0mdpi\u001b[0m\u001b[0;34m=\u001b[0m\u001b[0;36m20\u001b[0m\u001b[0;34m,\u001b[0m\u001b[0;34m\u001b[0m\u001b[0;34m\u001b[0m\u001b[0m\n",
      "\u001b[0;31mNameError\u001b[0m: name 'idx' is not defined"
     ]
    }
   ],
   "source": [
    "lsFilter.SetNumberOfIterations(25)\n",
    "img_T1f = sitk.Cast(img_T1, sitk.sitkFloat32)\n",
    "ls = init_ls\n",
    "niter = 0\n",
    "for i in range(0, 10):\n",
    "    ls = lsFilter.Execute(ls, img_T1f)\n",
    "    niter += lsFilter.GetNumberOfIterations()\n",
    "    t = (\n",
    "        \"LevelSet after \"\n",
    "        + str(niter)\n",
    "        + \" iterations and RMS \"\n",
    "        + str(lsFilter.GetRMSChange())\n",
    "    )\n",
    "    fig = myshow3d(\n",
    "        sitk.LabelOverlay(img_T1_255, ls > 0),\n",
    "        zslices=range(\n",
    "            idx[2] - zslice_offset, idx[2] + zslice_offset + 1, zslice_offset\n",
    "        ),\n",
    "        dpi=20,\n",
    "        title=t,\n",
    "    )"
   ]
  },
  {
   "cell_type": "code",
   "execution_count": null,
   "metadata": {},
   "outputs": [],
   "source": []
  }
 ],
 "metadata": {
  "interpreter": {
   "hash": "1e6799157765d81613ac27c0a74e5af9cf9d4aa1f88a5869dfa7787d44927be5"
  },
  "kernelspec": {
   "display_name": "Python 3.9.7 64-bit ('base': conda)",
   "language": "python",
   "name": "python3"
  },
  "language_info": {
   "codemirror_mode": {
    "name": "ipython",
    "version": 3
   },
   "file_extension": ".py",
   "mimetype": "text/x-python",
   "name": "python",
   "nbconvert_exporter": "python",
   "pygments_lexer": "ipython3",
   "version": "3.9.7"
  }
 },
 "nbformat": 4,
 "nbformat_minor": 4
}
