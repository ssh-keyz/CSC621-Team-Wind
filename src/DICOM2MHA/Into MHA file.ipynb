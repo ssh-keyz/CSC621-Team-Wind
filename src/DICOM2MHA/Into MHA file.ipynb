{
 "cells": [
  {
   "cell_type": "code",
   "execution_count": 6,
   "id": "9f0eefa7",
   "metadata": {},
   "outputs": [],
   "source": [
    "import os\n",
    "import SimpleITK as sitk\n",
    "\n",
    "# Use the functional interface to read the image series.\n",
    "# original_image = sitk.ReadImage(sitk.ImageSeriesReader_GetGDCMSeriesFileNames(\"/Users/gaolarry/Desktop/Covid-19 Images/CSC621-Team-Wind/Code Into MHA file/Healthy Lung\"))\n",
    "original_image = sitk.ReadImage(sitk.ImageSeriesReader_GetGDCMSeriesFileNames(\"/Users/tyla/Downloads/NBIA/manifest-1608266677008/MIDRC-RICORD-1A/MIDRC-RICORD-1A-440808-000012/02-08-2004-NA-THORAXABDOMENPELVIS  CONT-.1449/601.000000-TAP STD AXIAL 3X3-.1450\"))\n",
    "# Write the image.\n",
    "OUTPUT_DIR = \"../img\"\n",
    "output_file_name_3D = os.path.join(OUTPUT_DIR, 'imageT2.mha')\n",
    "sitk.WriteImage(original_image, output_file_name_3D)"
   ]
  }
 ],
 "metadata": {
  "kernelspec": {
   "display_name": "Python 3 (ipykernel)",
   "language": "python",
   "name": "python3"
  },
  "language_info": {
   "codemirror_mode": {
    "name": "ipython",
    "version": 3
   },
   "file_extension": ".py",
   "mimetype": "text/x-python",
   "name": "python",
   "nbconvert_exporter": "python",
   "pygments_lexer": "ipython3",
   "version": "3.9.7"
  }
 },
 "nbformat": 4,
 "nbformat_minor": 5
}
