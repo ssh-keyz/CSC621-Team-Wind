{
 "cells": [
  {
   "cell_type": "code",
   "execution_count": 2,
   "id": "9f0eefa7",
   "metadata": {},
   "outputs": [],
   "source": [
    "import os\n",
    "import SimpleITK as sitk\n",
    "\n",
    "# Use the functional interface to read the image series.\n",
    "original_image = sitk.ReadImage(sitk.ImageSeriesReader_GetGDCMSeriesFileNames(\"/Users/gaolarry/Desktop/Covid-19 Images/CSC621-Team-Wind/Code Into MHA file/Healthy Lung\"))\n",
    "\n",
    "# Write the image.\n",
    "OUTPUT_DIR = \"/Users/gaolarry/Desktop/Covid-19 Images/CSC621-Team-Wind/Code Into MHA file\"\n",
    "output_file_name_3D = os.path.join(OUTPUT_DIR, '3DImage.mha')\n",
    "sitk.WriteImage(original_image, output_file_name_3D)"
   ]
  },
  {
   "cell_type": "code",
   "execution_count": null,
   "id": "2cf6d080",
   "metadata": {},
   "outputs": [],
   "source": []
  },
  {
   "cell_type": "code",
   "execution_count": null,
   "id": "936489ec",
   "metadata": {},
   "outputs": [],
   "source": []
  }
 ],
 "metadata": {
  "kernelspec": {
   "display_name": "Python 3.9.7 64-bit ('base': conda)",
   "language": "python",
   "name": "python397jvsc74a57bd01e6799157765d81613ac27c0a74e5af9cf9d4aa1f88a5869dfa7787d44927be5"
  },
  "language_info": {
   "codemirror_mode": {
    "name": "ipython",
    "version": 3
   },
   "file_extension": ".py",
   "mimetype": "text/x-python",
   "name": "python",
   "nbconvert_exporter": "python",
   "pygments_lexer": "ipython3",
   "version": "3.9.7"
  }
 },
 "nbformat": 4,
 "nbformat_minor": 5
}
