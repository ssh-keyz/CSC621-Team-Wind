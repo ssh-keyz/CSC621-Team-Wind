{
 "cells": [
  {
   "cell_type": "markdown",
   "metadata": {},
   "source": [
    "# Segmentation Evaluation"
   ]
  },
  {
   "cell_type": "code",
   "execution_count": 1,
   "metadata": {},
   "outputs": [],
   "source": [
    "%matplotlib inline\n",
    "import matplotlib.pyplot as plt\n",
    "import SimpleITK as sitk\n",
    "from myshow import myshow, myshow3d\n",
    "import gui\n",
    "\n",
    "import os\n",
    "\n",
    "OUTPUT_DIR = \"./\""
   ]
  },
  {
   "cell_type": "code",
   "execution_count": 2,
   "metadata": {},
   "outputs": [],
   "source": [
    "# Read label images\n",
    "gs_label_image = sitk.ReadImage(\"./604.000000-COR 3X3-11320_resampled_label.mha\", sitk.sitkFloat32)\n",
    "registered_label_image = sitk.ReadImage(\"./601.000000-COR 3X3-19359_resampled_label.mha\", sitk.sitkFloat32)"
   ]
  },
  {
   "cell_type": "code",
   "execution_count": 3,
   "metadata": {},
   "outputs": [
    {
     "name": "stdout",
     "output_type": "stream",
     "text": [
      "(512, 512, 106)\n",
      "(512, 512, 106)\n"
     ]
    }
   ],
   "source": [
    "print(gs_label_image.GetSize())\n",
    "print(registered_label_image.GetSize())"
   ]
  },
  {
   "cell_type": "markdown",
   "metadata": {},
   "source": [
    "## Calculate the Overlap"
   ]
  },
  {
   "cell_type": "code",
   "execution_count": 4,
   "metadata": {},
   "outputs": [
    {
     "name": "stdout",
     "output_type": "stream",
     "text": [
      "14142898.0\n",
      "20485590\n",
      "1.4484718761317519\n",
      "144.85 %\n"
     ]
    }
   ],
   "source": [
    "gs_label_arr = sitk.GetArrayFromImage(gs_label_image)\n",
    "reg_label_arr = sitk.GetArrayFromImage(registered_label_image)\n",
    "\n",
    "gs_area = sum(sum(sum(gs_label_arr)))\n",
    "print(gs_area)\n",
    "\n",
    "\n",
    "overlap = sum(sum(sum(gs_label_arr == reg_label_arr)))\n",
    "print(overlap)\n",
    "\n",
    "coverage = overlap / gs_area\n",
    "print(coverage)\n",
    "print(f'{round(coverage*100, 2)} %')"
   ]
  },
  {
   "cell_type": "code",
   "execution_count": null,
   "metadata": {},
   "outputs": [],
   "source": []
  }
 ],
 "metadata": {
  "interpreter": {
   "hash": "1e6799157765d81613ac27c0a74e5af9cf9d4aa1f88a5869dfa7787d44927be5"
  },
  "kernelspec": {
   "display_name": "Python 3 (ipykernel)",
   "language": "python",
   "name": "python3"
  },
  "language_info": {
   "codemirror_mode": {
    "name": "ipython",
    "version": 3
   },
   "file_extension": ".py",
   "mimetype": "text/x-python",
   "name": "python",
   "nbconvert_exporter": "python",
   "pygments_lexer": "ipython3",
   "version": "3.9.10"
  }
 },
 "nbformat": 4,
 "nbformat_minor": 4
}
